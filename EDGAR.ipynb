{
  "nbformat": 4,
  "nbformat_minor": 0,
  "metadata": {
    "colab": {
      "provenance": [],
      "authorship_tag": "ABX9TyOZ2apwxxK5vGJxTQL0AR1/",
      "include_colab_link": true
    },
    "kernelspec": {
      "name": "python3",
      "display_name": "Python 3"
    },
    "language_info": {
      "name": "python"
    }
  },
  "cells": [
    {
      "cell_type": "markdown",
      "metadata": {
        "id": "view-in-github",
        "colab_type": "text"
      },
      "source": [
        "<a href=\"https://colab.research.google.com/github/redzuanabdullah/Test/blob/main/EDGAR.ipynb\" target=\"_parent\"><img src=\"https://colab.research.google.com/assets/colab-badge.svg\" alt=\"Open In Colab\"/></a>"
      ]
    },
    {
      "cell_type": "code",
      "execution_count": null,
      "metadata": {
        "colab": {
          "base_uri": "https://localhost:8080/"
        },
        "id": "Q-FpeqdlhxJf",
        "outputId": "3412164a-63ad-4928-ff1a-1a654ecac544"
      },
      "outputs": [
        {
          "output_type": "stream",
          "name": "stdout",
          "text": [
            "Downloaded: 10-K_report_1.html\n",
            "Downloaded: 10-K_report_2.html\n",
            "Downloaded: 10-K_report_3.html\n",
            "Downloaded: 10-K_report_4.html\n",
            "Downloaded: 10-K_report_5.html\n",
            "Downloaded: 10-K_report_6.html\n",
            "Downloaded: 10-K_report_7.html\n",
            "Downloaded: 10-K_report_8.html\n",
            "Downloaded: 10-K_report_9.html\n",
            "Downloaded: 10-K_report_10.html\n"
          ]
        }
      ],
      "source": [
        "import os\n",
        "import requests\n",
        "from bs4 import BeautifulSoup\n",
        "\n",
        "# Define the company CIK and filing type\n",
        "cik = '0000320193'  # Example: Apple Inc.\n",
        "filing_type = '10-K'\n",
        "base_url = f'https://www.sec.gov/cgi-bin/browse-edgar?action=getcompany&CIK={cik}&type={filing_type}&count=100'\n",
        "\n",
        "# Headers to mimic browser behavior\n",
        "headers = {\n",
        "    'User-Agent': 'Your Name (your-email@example.com)'\n",
        "}\n",
        "\n",
        "# Fetch filings list\n",
        "response = requests.get(base_url, headers=headers)\n",
        "soup = BeautifulSoup(response.text, 'html.parser')\n",
        "\n",
        "# Find report links\n",
        "filing_links = []\n",
        "for link in soup.find_all('a', {'id': 'documentsbutton'}):\n",
        "    filing_links.append('https://www.sec.gov' + link['href'])\n",
        "\n",
        "# Download the first 10 filings\n",
        "for i, link in enumerate(filing_links[:10], start=1):\n",
        "    filing_page = requests.get(link, headers=headers)\n",
        "    filing_soup = BeautifulSoup(filing_page.text, 'html.parser')\n",
        "    primary_doc_link = filing_soup.find('a', {'href': lambda x: x and x.endswith('.htm')})\n",
        "\n",
        "    if primary_doc_link:\n",
        "        report_url = 'https://www.sec.gov' + primary_doc_link['href']\n",
        "        report_response = requests.get(report_url, headers=headers)\n",
        "        filename = f'{filing_type}_report_{i}.html'\n",
        "        with open(filename, 'wb') as file:\n",
        "            file.write(report_response.content)\n",
        "        print(f'Downloaded: {filename}')\n"
      ]
    },
    {
      "cell_type": "code",
      "source": [
        "import os\n",
        "import pandas as pd\n",
        "from bs4 import BeautifulSoup\n",
        "\n",
        "# Loop through all HTML files in the current directory\n",
        "for file_name in os.listdir():\n",
        "    if file_name.endswith('.html') and file_name.startswith('10-K'):\n",
        "        with open(file_name, 'r', encoding='utf-8') as file:\n",
        "            soup = BeautifulSoup(file, 'html.parser')\n",
        "\n",
        "        # Find all tables in the HTML file\n",
        "        tables = soup.find_all('table')\n",
        "\n",
        "        excel_file = file_name.replace('.html', '.xlsx')\n",
        "        with pd.ExcelWriter(excel_file, engine='openpyxl') as writer:\n",
        "            if tables:\n",
        "                # Extract each table and save as a sheet\n",
        "                for i, table in enumerate(tables):\n",
        "                    try:\n",
        "                        df = pd.read_html(str(table))[0]\n",
        "                        sheet_name = f\"Table_{i + 1}\"\n",
        "                        df.to_excel(writer, sheet_name=sheet_name, index=False)\n",
        "                    except ValueError as e:\n",
        "                        print(f\"Error parsing table {i + 1} in {file_name}: {e}\")\n",
        "            else:\n",
        "                # Add a default sheet\n",
        "                df = pd.DataFrame({\"Message\": [f\"No tables found in {file_name}.\"]})\n",
        "                df.to_excel(writer, sheet_name=\"Info\", index=False)\n",
        "\n",
        "        print(f\"Saved tables to {excel_file}\")\n"
      ],
      "metadata": {
        "id": "mGmdhaGrjgBQ"
      },
      "execution_count": 1,
      "outputs": []
    }
  ]
}